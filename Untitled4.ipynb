{
 "cells": [
  {
   "cell_type": "code",
   "execution_count": 4,
   "id": "89d7689c",
   "metadata": {},
   "outputs": [
    {
     "name": "stdout",
     "output_type": "stream",
     "text": [
      "Requirement already satisfied: pandas in c:\\users\\vignesh\\appdata\\local\\programs\\python\\python37\\lib\\site-packages (1.3.5)\n",
      "Requirement already satisfied: python-dateutil>=2.7.3 in c:\\users\\vignesh\\appdata\\local\\programs\\python\\python37\\lib\\site-packages (from pandas) (2.8.2)\n",
      "Requirement already satisfied: pytz>=2017.3 in c:\\users\\vignesh\\appdata\\local\\programs\\python\\python37\\lib\\site-packages (from pandas) (2022.6)\n",
      "Requirement already satisfied: numpy>=1.17.3 in c:\\users\\vignesh\\appdata\\local\\programs\\python\\python37\\lib\\site-packages (from pandas) (1.21.6)\n",
      "Requirement already satisfied: six>=1.5 in c:\\users\\vignesh\\appdata\\local\\programs\\python\\python37\\lib\\site-packages (from python-dateutil>=2.7.3->pandas) (1.16.0)\n"
     ]
    }
   ],
   "source": [
    "!pip install pandas"
   ]
  },
  {
   "cell_type": "code",
   "execution_count": 5,
   "id": "25a6096c",
   "metadata": {},
   "outputs": [
    {
     "name": "stdout",
     "output_type": "stream",
     "text": [
      "Requirement already satisfied: matplotlib in c:\\users\\vignesh\\appdata\\local\\programs\\python\\python37\\lib\\site-packages (3.5.3)\n",
      "Requirement already satisfied: packaging>=20.0 in c:\\users\\vignesh\\appdata\\local\\programs\\python\\python37\\lib\\site-packages (from matplotlib) (21.3)\n",
      "Requirement already satisfied: fonttools>=4.22.0 in c:\\users\\vignesh\\appdata\\local\\programs\\python\\python37\\lib\\site-packages (from matplotlib) (4.38.0)\n",
      "Requirement already satisfied: pyparsing>=2.2.1 in c:\\users\\vignesh\\appdata\\local\\programs\\python\\python37\\lib\\site-packages (from matplotlib) (3.0.9)\n",
      "Requirement already satisfied: numpy>=1.17 in c:\\users\\vignesh\\appdata\\local\\programs\\python\\python37\\lib\\site-packages (from matplotlib) (1.21.6)\n",
      "Requirement already satisfied: kiwisolver>=1.0.1 in c:\\users\\vignesh\\appdata\\local\\programs\\python\\python37\\lib\\site-packages (from matplotlib) (1.4.4)\n",
      "Requirement already satisfied: pillow>=6.2.0 in c:\\users\\vignesh\\appdata\\local\\programs\\python\\python37\\lib\\site-packages (from matplotlib) (9.3.0)\n",
      "Requirement already satisfied: python-dateutil>=2.7 in c:\\users\\vignesh\\appdata\\local\\programs\\python\\python37\\lib\\site-packages (from matplotlib) (2.8.2)\n",
      "Requirement already satisfied: cycler>=0.10 in c:\\users\\vignesh\\appdata\\local\\programs\\python\\python37\\lib\\site-packages (from matplotlib) (0.11.0)\n",
      "Requirement already satisfied: typing-extensions in c:\\users\\vignesh\\appdata\\local\\programs\\python\\python37\\lib\\site-packages (from kiwisolver>=1.0.1->matplotlib) (4.4.0)\n",
      "Requirement already satisfied: six>=1.5 in c:\\users\\vignesh\\appdata\\local\\programs\\python\\python37\\lib\\site-packages (from python-dateutil>=2.7->matplotlib) (1.16.0)\n"
     ]
    }
   ],
   "source": [
    "!pip install matplotlib"
   ]
  },
  {
   "cell_type": "code",
   "execution_count": 6,
   "id": "45ee87cb",
   "metadata": {},
   "outputs": [],
   "source": [
    "import pandas as pd \n",
    "import matplotlib.pyplot as plt\n",
    "import numpy as np\n",
    "import seaborn as sns"
   ]
  },
  {
   "cell_type": "markdown",
   "id": "41ce367b",
   "metadata": {},
   "source": [
    "## OPENING THE FILE"
   ]
  },
  {
   "cell_type": "code",
   "execution_count": 7,
   "id": "ef6b8c45",
   "metadata": {},
   "outputs": [
    {
     "data": {
      "text/html": [
       "<div>\n",
       "<style scoped>\n",
       "    .dataframe tbody tr th:only-of-type {\n",
       "        vertical-align: middle;\n",
       "    }\n",
       "\n",
       "    .dataframe tbody tr th {\n",
       "        vertical-align: top;\n",
       "    }\n",
       "\n",
       "    .dataframe thead th {\n",
       "        text-align: right;\n",
       "    }\n",
       "</style>\n",
       "<table border=\"1\" class=\"dataframe\">\n",
       "  <thead>\n",
       "    <tr style=\"text-align: right;\">\n",
       "      <th></th>\n",
       "      <th>Rank</th>\n",
       "      <th>Player</th>\n",
       "      <th>Country</th>\n",
       "      <th>Career Span</th>\n",
       "      <th>Matches</th>\n",
       "      <th>Innings</th>\n",
       "      <th>Balls</th>\n",
       "      <th>Runs</th>\n",
       "      <th>Wickets</th>\n",
       "      <th>Average</th>\n",
       "      <th>Economy</th>\n",
       "      <th>Strike Rate</th>\n",
       "      <th>5</th>\n",
       "      <th>10</th>\n",
       "      <th>Best Figures</th>\n",
       "    </tr>\n",
       "  </thead>\n",
       "  <tbody>\n",
       "    <tr>\n",
       "      <th>0</th>\n",
       "      <td>1</td>\n",
       "      <td>M Muralidaran</td>\n",
       "      <td>SL</td>\n",
       "      <td>18</td>\n",
       "      <td>133</td>\n",
       "      <td>230</td>\n",
       "      <td>44039</td>\n",
       "      <td>18180</td>\n",
       "      <td>800</td>\n",
       "      <td>22.72</td>\n",
       "      <td>2.47</td>\n",
       "      <td>55.0</td>\n",
       "      <td>67</td>\n",
       "      <td>22</td>\n",
       "      <td>9/51</td>\n",
       "    </tr>\n",
       "    <tr>\n",
       "      <th>1</th>\n",
       "      <td>2</td>\n",
       "      <td>SK Warne</td>\n",
       "      <td>AUS</td>\n",
       "      <td>15</td>\n",
       "      <td>145</td>\n",
       "      <td>273</td>\n",
       "      <td>40705</td>\n",
       "      <td>17995</td>\n",
       "      <td>708</td>\n",
       "      <td>25.41</td>\n",
       "      <td>2.65</td>\n",
       "      <td>57.4</td>\n",
       "      <td>37</td>\n",
       "      <td>10</td>\n",
       "      <td>8/71</td>\n",
       "    </tr>\n",
       "    <tr>\n",
       "      <th>2</th>\n",
       "      <td>3</td>\n",
       "      <td>JM Anderson</td>\n",
       "      <td>ENG</td>\n",
       "      <td>19</td>\n",
       "      <td>175</td>\n",
       "      <td>325</td>\n",
       "      <td>37505</td>\n",
       "      <td>17491</td>\n",
       "      <td>667</td>\n",
       "      <td>26.22</td>\n",
       "      <td>2.79</td>\n",
       "      <td>56.2</td>\n",
       "      <td>32</td>\n",
       "      <td>3</td>\n",
       "      <td>7/42</td>\n",
       "    </tr>\n",
       "    <tr>\n",
       "      <th>3</th>\n",
       "      <td>4</td>\n",
       "      <td>A Kumble</td>\n",
       "      <td>INDIA</td>\n",
       "      <td>18</td>\n",
       "      <td>132</td>\n",
       "      <td>236</td>\n",
       "      <td>40850</td>\n",
       "      <td>18355</td>\n",
       "      <td>619</td>\n",
       "      <td>29.65</td>\n",
       "      <td>2.69</td>\n",
       "      <td>65.9</td>\n",
       "      <td>35</td>\n",
       "      <td>8</td>\n",
       "      <td>10/74</td>\n",
       "    </tr>\n",
       "    <tr>\n",
       "      <th>4</th>\n",
       "      <td>5</td>\n",
       "      <td>SCJ Broad</td>\n",
       "      <td>ENG</td>\n",
       "      <td>15</td>\n",
       "      <td>159</td>\n",
       "      <td>293</td>\n",
       "      <td>31982</td>\n",
       "      <td>15720</td>\n",
       "      <td>566</td>\n",
       "      <td>27.77</td>\n",
       "      <td>2.94</td>\n",
       "      <td>56.5</td>\n",
       "      <td>19</td>\n",
       "      <td>3</td>\n",
       "      <td>8/15</td>\n",
       "    </tr>\n",
       "    <tr>\n",
       "      <th>...</th>\n",
       "      <td>...</td>\n",
       "      <td>...</td>\n",
       "      <td>...</td>\n",
       "      <td>...</td>\n",
       "      <td>...</td>\n",
       "      <td>...</td>\n",
       "      <td>...</td>\n",
       "      <td>...</td>\n",
       "      <td>...</td>\n",
       "      <td>...</td>\n",
       "      <td>...</td>\n",
       "      <td>...</td>\n",
       "      <td>...</td>\n",
       "      <td>...</td>\n",
       "      <td>...</td>\n",
       "    </tr>\n",
       "    <tr>\n",
       "      <th>74</th>\n",
       "      <td>75</td>\n",
       "      <td>MG Hughes</td>\n",
       "      <td>AUS</td>\n",
       "      <td>9</td>\n",
       "      <td>53</td>\n",
       "      <td>97</td>\n",
       "      <td>12285</td>\n",
       "      <td>6017</td>\n",
       "      <td>212</td>\n",
       "      <td>28.38</td>\n",
       "      <td>2.93</td>\n",
       "      <td>57.9</td>\n",
       "      <td>7</td>\n",
       "      <td>1</td>\n",
       "      <td>8/87</td>\n",
       "    </tr>\n",
       "    <tr>\n",
       "      <th>75</th>\n",
       "      <td>76</td>\n",
       "      <td>SCG MacGill</td>\n",
       "      <td>AUS</td>\n",
       "      <td>10</td>\n",
       "      <td>44</td>\n",
       "      <td>85</td>\n",
       "      <td>11237</td>\n",
       "      <td>6038</td>\n",
       "      <td>208</td>\n",
       "      <td>29.02</td>\n",
       "      <td>3.22</td>\n",
       "      <td>54.0</td>\n",
       "      <td>12</td>\n",
       "      <td>2</td>\n",
       "      <td>8/108</td>\n",
       "    </tr>\n",
       "    <tr>\n",
       "      <th>76</th>\n",
       "      <td>77</td>\n",
       "      <td>Saqlain Mushtaq</td>\n",
       "      <td>PAK</td>\n",
       "      <td>9</td>\n",
       "      <td>49</td>\n",
       "      <td>86</td>\n",
       "      <td>14070</td>\n",
       "      <td>6206</td>\n",
       "      <td>208</td>\n",
       "      <td>29.83</td>\n",
       "      <td>2.64</td>\n",
       "      <td>67.6</td>\n",
       "      <td>13</td>\n",
       "      <td>3</td>\n",
       "      <td>8/164</td>\n",
       "    </tr>\n",
       "    <tr>\n",
       "      <th>77</th>\n",
       "      <td>78</td>\n",
       "      <td>AME Roberts</td>\n",
       "      <td>WI</td>\n",
       "      <td>9</td>\n",
       "      <td>47</td>\n",
       "      <td>90</td>\n",
       "      <td>11135</td>\n",
       "      <td>5174</td>\n",
       "      <td>202</td>\n",
       "      <td>25.61</td>\n",
       "      <td>2.78</td>\n",
       "      <td>55.1</td>\n",
       "      <td>11</td>\n",
       "      <td>2</td>\n",
       "      <td>7/54</td>\n",
       "    </tr>\n",
       "    <tr>\n",
       "      <th>78</th>\n",
       "      <td>79</td>\n",
       "      <td>JA Snow</td>\n",
       "      <td>ENG</td>\n",
       "      <td>11</td>\n",
       "      <td>49</td>\n",
       "      <td>93</td>\n",
       "      <td>12021</td>\n",
       "      <td>5387</td>\n",
       "      <td>202</td>\n",
       "      <td>26.66</td>\n",
       "      <td>2.68</td>\n",
       "      <td>59.5</td>\n",
       "      <td>8</td>\n",
       "      <td>1</td>\n",
       "      <td>7/40</td>\n",
       "    </tr>\n",
       "  </tbody>\n",
       "</table>\n",
       "<p>79 rows × 15 columns</p>\n",
       "</div>"
      ],
      "text/plain": [
       "    Rank           Player Country  Career Span  Matches  Innings  Balls  \\\n",
       "0      1    M Muralidaran      SL           18      133      230  44039   \n",
       "1      2         SK Warne     AUS           15      145      273  40705   \n",
       "2      3      JM Anderson     ENG           19      175      325  37505   \n",
       "3      4         A Kumble   INDIA           18      132      236  40850   \n",
       "4      5        SCJ Broad     ENG           15      159      293  31982   \n",
       "..   ...              ...     ...          ...      ...      ...    ...   \n",
       "74    75        MG Hughes     AUS            9       53       97  12285   \n",
       "75    76      SCG MacGill     AUS           10       44       85  11237   \n",
       "76    77  Saqlain Mushtaq     PAK            9       49       86  14070   \n",
       "77    78      AME Roberts      WI            9       47       90  11135   \n",
       "78    79          JA Snow     ENG           11       49       93  12021   \n",
       "\n",
       "     Runs  Wickets  Average  Economy  Strike Rate   5  10 Best Figures  \n",
       "0   18180      800    22.72     2.47         55.0  67  22         9/51  \n",
       "1   17995      708    25.41     2.65         57.4  37  10         8/71  \n",
       "2   17491      667    26.22     2.79         56.2  32   3         7/42  \n",
       "3   18355      619    29.65     2.69         65.9  35   8        10/74  \n",
       "4   15720      566    27.77     2.94         56.5  19   3         8/15  \n",
       "..    ...      ...      ...      ...          ...  ..  ..          ...  \n",
       "74   6017      212    28.38     2.93         57.9   7   1         8/87  \n",
       "75   6038      208    29.02     3.22         54.0  12   2        8/108  \n",
       "76   6206      208    29.83     2.64         67.6  13   3        8/164  \n",
       "77   5174      202    25.61     2.78         55.1  11   2         7/54  \n",
       "78   5387      202    26.66     2.68         59.5   8   1         7/40  \n",
       "\n",
       "[79 rows x 15 columns]"
      ]
     },
     "execution_count": 7,
     "metadata": {},
     "output_type": "execute_result"
    }
   ],
   "source": [
    "rawdf = pd.read_csv('Test wickets.csv')\n",
    "rawdf"
   ]
  },
  {
   "cell_type": "markdown",
   "id": "16df9df5",
   "metadata": {},
   "source": [
    "## INDIAN BOWLERS RECORD"
   ]
  },
  {
   "cell_type": "code",
   "execution_count": 8,
   "id": "7dc4fa11",
   "metadata": {
    "scrolled": true
   },
   "outputs": [
    {
     "data": {
      "text/html": [
       "<div>\n",
       "<style scoped>\n",
       "    .dataframe tbody tr th:only-of-type {\n",
       "        vertical-align: middle;\n",
       "    }\n",
       "\n",
       "    .dataframe tbody tr th {\n",
       "        vertical-align: top;\n",
       "    }\n",
       "\n",
       "    .dataframe thead th {\n",
       "        text-align: right;\n",
       "    }\n",
       "</style>\n",
       "<table border=\"1\" class=\"dataframe\">\n",
       "  <thead>\n",
       "    <tr style=\"text-align: right;\">\n",
       "      <th></th>\n",
       "      <th>Rank</th>\n",
       "      <th>Player</th>\n",
       "      <th>Country</th>\n",
       "      <th>Career Span</th>\n",
       "      <th>Matches</th>\n",
       "      <th>Innings</th>\n",
       "      <th>Balls</th>\n",
       "      <th>Runs</th>\n",
       "      <th>Wickets</th>\n",
       "      <th>Average</th>\n",
       "      <th>Economy</th>\n",
       "      <th>Strike Rate</th>\n",
       "      <th>5</th>\n",
       "      <th>10</th>\n",
       "      <th>Best Figures</th>\n",
       "    </tr>\n",
       "  </thead>\n",
       "  <tbody>\n",
       "    <tr>\n",
       "      <th>3</th>\n",
       "      <td>4</td>\n",
       "      <td>A Kumble</td>\n",
       "      <td>INDIA</td>\n",
       "      <td>18</td>\n",
       "      <td>132</td>\n",
       "      <td>236</td>\n",
       "      <td>40850</td>\n",
       "      <td>18355</td>\n",
       "      <td>619</td>\n",
       "      <td>29.65</td>\n",
       "      <td>2.69</td>\n",
       "      <td>65.9</td>\n",
       "      <td>35</td>\n",
       "      <td>8</td>\n",
       "      <td>10/74</td>\n",
       "    </tr>\n",
       "    <tr>\n",
       "      <th>7</th>\n",
       "      <td>8</td>\n",
       "      <td>R Ashwin</td>\n",
       "      <td>INDIA</td>\n",
       "      <td>11</td>\n",
       "      <td>86</td>\n",
       "      <td>162</td>\n",
       "      <td>23089</td>\n",
       "      <td>10666</td>\n",
       "      <td>442</td>\n",
       "      <td>24.13</td>\n",
       "      <td>2.77</td>\n",
       "      <td>52.2</td>\n",
       "      <td>30</td>\n",
       "      <td>7</td>\n",
       "      <td>7/59</td>\n",
       "    </tr>\n",
       "    <tr>\n",
       "      <th>10</th>\n",
       "      <td>11</td>\n",
       "      <td>N Kapil Dev</td>\n",
       "      <td>INDIA</td>\n",
       "      <td>16</td>\n",
       "      <td>131</td>\n",
       "      <td>227</td>\n",
       "      <td>27740</td>\n",
       "      <td>12867</td>\n",
       "      <td>434</td>\n",
       "      <td>29.64</td>\n",
       "      <td>2.78</td>\n",
       "      <td>63.9</td>\n",
       "      <td>23</td>\n",
       "      <td>2</td>\n",
       "      <td>9/83</td>\n",
       "    </tr>\n",
       "    <tr>\n",
       "      <th>14</th>\n",
       "      <td>15</td>\n",
       "      <td>Harbhajan Singh</td>\n",
       "      <td>INDIA</td>\n",
       "      <td>17</td>\n",
       "      <td>103</td>\n",
       "      <td>190</td>\n",
       "      <td>28580</td>\n",
       "      <td>13537</td>\n",
       "      <td>417</td>\n",
       "      <td>32.46</td>\n",
       "      <td>2.84</td>\n",
       "      <td>68.5</td>\n",
       "      <td>25</td>\n",
       "      <td>5</td>\n",
       "      <td>8/84</td>\n",
       "    </tr>\n",
       "    <tr>\n",
       "      <th>30</th>\n",
       "      <td>31</td>\n",
       "      <td>I Sharma</td>\n",
       "      <td>INDIA</td>\n",
       "      <td>14</td>\n",
       "      <td>105</td>\n",
       "      <td>188</td>\n",
       "      <td>19160</td>\n",
       "      <td>10078</td>\n",
       "      <td>311</td>\n",
       "      <td>32.40</td>\n",
       "      <td>3.15</td>\n",
       "      <td>61.6</td>\n",
       "      <td>11</td>\n",
       "      <td>1</td>\n",
       "      <td>7/74</td>\n",
       "    </tr>\n",
       "    <tr>\n",
       "      <th>31</th>\n",
       "      <td>32</td>\n",
       "      <td>Z Khan</td>\n",
       "      <td>INDIA</td>\n",
       "      <td>14</td>\n",
       "      <td>92</td>\n",
       "      <td>165</td>\n",
       "      <td>18785</td>\n",
       "      <td>10247</td>\n",
       "      <td>311</td>\n",
       "      <td>32.94</td>\n",
       "      <td>3.27</td>\n",
       "      <td>60.4</td>\n",
       "      <td>11</td>\n",
       "      <td>1</td>\n",
       "      <td>7/87</td>\n",
       "    </tr>\n",
       "    <tr>\n",
       "      <th>40</th>\n",
       "      <td>41</td>\n",
       "      <td>BS Bedi</td>\n",
       "      <td>INDIA</td>\n",
       "      <td>13</td>\n",
       "      <td>67</td>\n",
       "      <td>118</td>\n",
       "      <td>21364</td>\n",
       "      <td>7637</td>\n",
       "      <td>266</td>\n",
       "      <td>28.71</td>\n",
       "      <td>2.14</td>\n",
       "      <td>80.3</td>\n",
       "      <td>14</td>\n",
       "      <td>1</td>\n",
       "      <td>7/98</td>\n",
       "    </tr>\n",
       "    <tr>\n",
       "      <th>54</th>\n",
       "      <td>55</td>\n",
       "      <td>RA Jadeja</td>\n",
       "      <td>INDIA</td>\n",
       "      <td>10</td>\n",
       "      <td>60</td>\n",
       "      <td>114</td>\n",
       "      <td>14751</td>\n",
       "      <td>5980</td>\n",
       "      <td>242</td>\n",
       "      <td>24.71</td>\n",
       "      <td>2.43</td>\n",
       "      <td>60.9</td>\n",
       "      <td>10</td>\n",
       "      <td>1</td>\n",
       "      <td>7/48</td>\n",
       "    </tr>\n",
       "    <tr>\n",
       "      <th>55</th>\n",
       "      <td>56</td>\n",
       "      <td>BS Chandrasekhar</td>\n",
       "      <td>INDIA</td>\n",
       "      <td>15</td>\n",
       "      <td>58</td>\n",
       "      <td>97</td>\n",
       "      <td>15963</td>\n",
       "      <td>7199</td>\n",
       "      <td>242</td>\n",
       "      <td>29.74</td>\n",
       "      <td>2.70</td>\n",
       "      <td>65.9</td>\n",
       "      <td>16</td>\n",
       "      <td>2</td>\n",
       "      <td>8/79</td>\n",
       "    </tr>\n",
       "    <tr>\n",
       "      <th>57</th>\n",
       "      <td>58</td>\n",
       "      <td>J Srinath</td>\n",
       "      <td>INDIA</td>\n",
       "      <td>11</td>\n",
       "      <td>67</td>\n",
       "      <td>121</td>\n",
       "      <td>15104</td>\n",
       "      <td>7196</td>\n",
       "      <td>236</td>\n",
       "      <td>30.49</td>\n",
       "      <td>2.85</td>\n",
       "      <td>64.0</td>\n",
       "      <td>10</td>\n",
       "      <td>1</td>\n",
       "      <td>8/86</td>\n",
       "    </tr>\n",
       "    <tr>\n",
       "      <th>71</th>\n",
       "      <td>72</td>\n",
       "      <td>Mohammed Shami</td>\n",
       "      <td>INDIA</td>\n",
       "      <td>9</td>\n",
       "      <td>60</td>\n",
       "      <td>114</td>\n",
       "      <td>10827</td>\n",
       "      <td>5931</td>\n",
       "      <td>216</td>\n",
       "      <td>27.45</td>\n",
       "      <td>3.28</td>\n",
       "      <td>50.1</td>\n",
       "      <td>6</td>\n",
       "      <td>0</td>\n",
       "      <td>6/56</td>\n",
       "    </tr>\n",
       "  </tbody>\n",
       "</table>\n",
       "</div>"
      ],
      "text/plain": [
       "    Rank            Player Country  Career Span  Matches  Innings  Balls  \\\n",
       "3      4          A Kumble   INDIA           18      132      236  40850   \n",
       "7      8          R Ashwin   INDIA           11       86      162  23089   \n",
       "10    11       N Kapil Dev   INDIA           16      131      227  27740   \n",
       "14    15   Harbhajan Singh   INDIA           17      103      190  28580   \n",
       "30    31          I Sharma   INDIA           14      105      188  19160   \n",
       "31    32            Z Khan   INDIA           14       92      165  18785   \n",
       "40    41           BS Bedi   INDIA           13       67      118  21364   \n",
       "54    55         RA Jadeja   INDIA           10       60      114  14751   \n",
       "55    56  BS Chandrasekhar   INDIA           15       58       97  15963   \n",
       "57    58         J Srinath   INDIA           11       67      121  15104   \n",
       "71    72    Mohammed Shami   INDIA            9       60      114  10827   \n",
       "\n",
       "     Runs  Wickets  Average  Economy  Strike Rate   5  10 Best Figures  \n",
       "3   18355      619    29.65     2.69         65.9  35   8        10/74  \n",
       "7   10666      442    24.13     2.77         52.2  30   7         7/59  \n",
       "10  12867      434    29.64     2.78         63.9  23   2         9/83  \n",
       "14  13537      417    32.46     2.84         68.5  25   5         8/84  \n",
       "30  10078      311    32.40     3.15         61.6  11   1         7/74  \n",
       "31  10247      311    32.94     3.27         60.4  11   1         7/87  \n",
       "40   7637      266    28.71     2.14         80.3  14   1         7/98  \n",
       "54   5980      242    24.71     2.43         60.9  10   1         7/48  \n",
       "55   7199      242    29.74     2.70         65.9  16   2         8/79  \n",
       "57   7196      236    30.49     2.85         64.0  10   1         8/86  \n",
       "71   5931      216    27.45     3.28         50.1   6   0         6/56  "
      ]
     },
     "execution_count": 8,
     "metadata": {},
     "output_type": "execute_result"
    }
   ],
   "source": [
    "ind = rawdf[rawdf.Country.str.startswith('INDIA')]\n",
    "ind"
   ]
  },
  {
   "cell_type": "markdown",
   "id": "5c687c7b",
   "metadata": {},
   "source": [
    "## TOP 5 HIGHEST WICKET TAKING BOWLERS OF INDIA"
   ]
  },
  {
   "cell_type": "code",
   "execution_count": 9,
   "id": "3cfb3e07",
   "metadata": {},
   "outputs": [
    {
     "data": {
      "text/html": [
       "<div>\n",
       "<style scoped>\n",
       "    .dataframe tbody tr th:only-of-type {\n",
       "        vertical-align: middle;\n",
       "    }\n",
       "\n",
       "    .dataframe tbody tr th {\n",
       "        vertical-align: top;\n",
       "    }\n",
       "\n",
       "    .dataframe thead th {\n",
       "        text-align: right;\n",
       "    }\n",
       "</style>\n",
       "<table border=\"1\" class=\"dataframe\">\n",
       "  <thead>\n",
       "    <tr style=\"text-align: right;\">\n",
       "      <th></th>\n",
       "      <th>Rank</th>\n",
       "      <th>Player</th>\n",
       "      <th>Country</th>\n",
       "      <th>Career Span</th>\n",
       "      <th>Matches</th>\n",
       "      <th>Innings</th>\n",
       "      <th>Balls</th>\n",
       "      <th>Runs</th>\n",
       "      <th>Wickets</th>\n",
       "      <th>Average</th>\n",
       "      <th>Economy</th>\n",
       "      <th>Strike Rate</th>\n",
       "      <th>5</th>\n",
       "      <th>10</th>\n",
       "      <th>Best Figures</th>\n",
       "    </tr>\n",
       "  </thead>\n",
       "  <tbody>\n",
       "    <tr>\n",
       "      <th>3</th>\n",
       "      <td>4</td>\n",
       "      <td>A Kumble</td>\n",
       "      <td>INDIA</td>\n",
       "      <td>18</td>\n",
       "      <td>132</td>\n",
       "      <td>236</td>\n",
       "      <td>40850</td>\n",
       "      <td>18355</td>\n",
       "      <td>619</td>\n",
       "      <td>29.65</td>\n",
       "      <td>2.69</td>\n",
       "      <td>65.9</td>\n",
       "      <td>35</td>\n",
       "      <td>8</td>\n",
       "      <td>10/74</td>\n",
       "    </tr>\n",
       "    <tr>\n",
       "      <th>7</th>\n",
       "      <td>8</td>\n",
       "      <td>R Ashwin</td>\n",
       "      <td>INDIA</td>\n",
       "      <td>11</td>\n",
       "      <td>86</td>\n",
       "      <td>162</td>\n",
       "      <td>23089</td>\n",
       "      <td>10666</td>\n",
       "      <td>442</td>\n",
       "      <td>24.13</td>\n",
       "      <td>2.77</td>\n",
       "      <td>52.2</td>\n",
       "      <td>30</td>\n",
       "      <td>7</td>\n",
       "      <td>7/59</td>\n",
       "    </tr>\n",
       "    <tr>\n",
       "      <th>10</th>\n",
       "      <td>11</td>\n",
       "      <td>N Kapil Dev</td>\n",
       "      <td>INDIA</td>\n",
       "      <td>16</td>\n",
       "      <td>131</td>\n",
       "      <td>227</td>\n",
       "      <td>27740</td>\n",
       "      <td>12867</td>\n",
       "      <td>434</td>\n",
       "      <td>29.64</td>\n",
       "      <td>2.78</td>\n",
       "      <td>63.9</td>\n",
       "      <td>23</td>\n",
       "      <td>2</td>\n",
       "      <td>9/83</td>\n",
       "    </tr>\n",
       "    <tr>\n",
       "      <th>14</th>\n",
       "      <td>15</td>\n",
       "      <td>Harbhajan Singh</td>\n",
       "      <td>INDIA</td>\n",
       "      <td>17</td>\n",
       "      <td>103</td>\n",
       "      <td>190</td>\n",
       "      <td>28580</td>\n",
       "      <td>13537</td>\n",
       "      <td>417</td>\n",
       "      <td>32.46</td>\n",
       "      <td>2.84</td>\n",
       "      <td>68.5</td>\n",
       "      <td>25</td>\n",
       "      <td>5</td>\n",
       "      <td>8/84</td>\n",
       "    </tr>\n",
       "    <tr>\n",
       "      <th>30</th>\n",
       "      <td>31</td>\n",
       "      <td>I Sharma</td>\n",
       "      <td>INDIA</td>\n",
       "      <td>14</td>\n",
       "      <td>105</td>\n",
       "      <td>188</td>\n",
       "      <td>19160</td>\n",
       "      <td>10078</td>\n",
       "      <td>311</td>\n",
       "      <td>32.40</td>\n",
       "      <td>3.15</td>\n",
       "      <td>61.6</td>\n",
       "      <td>11</td>\n",
       "      <td>1</td>\n",
       "      <td>7/74</td>\n",
       "    </tr>\n",
       "  </tbody>\n",
       "</table>\n",
       "</div>"
      ],
      "text/plain": [
       "    Rank           Player Country  Career Span  Matches  Innings  Balls  \\\n",
       "3      4         A Kumble   INDIA           18      132      236  40850   \n",
       "7      8         R Ashwin   INDIA           11       86      162  23089   \n",
       "10    11      N Kapil Dev   INDIA           16      131      227  27740   \n",
       "14    15  Harbhajan Singh   INDIA           17      103      190  28580   \n",
       "30    31         I Sharma   INDIA           14      105      188  19160   \n",
       "\n",
       "     Runs  Wickets  Average  Economy  Strike Rate   5  10 Best Figures  \n",
       "3   18355      619    29.65     2.69         65.9  35   8        10/74  \n",
       "7   10666      442    24.13     2.77         52.2  30   7         7/59  \n",
       "10  12867      434    29.64     2.78         63.9  23   2         9/83  \n",
       "14  13537      417    32.46     2.84         68.5  25   5         8/84  \n",
       "30  10078      311    32.40     3.15         61.6  11   1         7/74  "
      ]
     },
     "execution_count": 9,
     "metadata": {},
     "output_type": "execute_result"
    }
   ],
   "source": [
    "indwickets = rawdf[rawdf.Country.str.startswith('INDIA')].sort_values(by = ['Wickets'], ascending = 0)\n",
    "indwickets.head(5)"
   ]
  },
  {
   "cell_type": "markdown",
   "id": "3a536626",
   "metadata": {},
   "source": [
    "## TOP 5 ECONOMICAL BOWLERS OF INDIA "
   ]
  },
  {
   "cell_type": "code",
   "execution_count": 10,
   "id": "f2aa21f8",
   "metadata": {},
   "outputs": [
    {
     "data": {
      "text/html": [
       "<div>\n",
       "<style scoped>\n",
       "    .dataframe tbody tr th:only-of-type {\n",
       "        vertical-align: middle;\n",
       "    }\n",
       "\n",
       "    .dataframe tbody tr th {\n",
       "        vertical-align: top;\n",
       "    }\n",
       "\n",
       "    .dataframe thead th {\n",
       "        text-align: right;\n",
       "    }\n",
       "</style>\n",
       "<table border=\"1\" class=\"dataframe\">\n",
       "  <thead>\n",
       "    <tr style=\"text-align: right;\">\n",
       "      <th></th>\n",
       "      <th>Rank</th>\n",
       "      <th>Player</th>\n",
       "      <th>Country</th>\n",
       "      <th>Career Span</th>\n",
       "      <th>Matches</th>\n",
       "      <th>Innings</th>\n",
       "      <th>Balls</th>\n",
       "      <th>Runs</th>\n",
       "      <th>Wickets</th>\n",
       "      <th>Average</th>\n",
       "      <th>Economy</th>\n",
       "      <th>Strike Rate</th>\n",
       "      <th>5</th>\n",
       "      <th>10</th>\n",
       "      <th>Best Figures</th>\n",
       "    </tr>\n",
       "  </thead>\n",
       "  <tbody>\n",
       "    <tr>\n",
       "      <th>40</th>\n",
       "      <td>41</td>\n",
       "      <td>BS Bedi</td>\n",
       "      <td>INDIA</td>\n",
       "      <td>13</td>\n",
       "      <td>67</td>\n",
       "      <td>118</td>\n",
       "      <td>21364</td>\n",
       "      <td>7637</td>\n",
       "      <td>266</td>\n",
       "      <td>28.71</td>\n",
       "      <td>2.14</td>\n",
       "      <td>80.3</td>\n",
       "      <td>14</td>\n",
       "      <td>1</td>\n",
       "      <td>7/98</td>\n",
       "    </tr>\n",
       "    <tr>\n",
       "      <th>54</th>\n",
       "      <td>55</td>\n",
       "      <td>RA Jadeja</td>\n",
       "      <td>INDIA</td>\n",
       "      <td>10</td>\n",
       "      <td>60</td>\n",
       "      <td>114</td>\n",
       "      <td>14751</td>\n",
       "      <td>5980</td>\n",
       "      <td>242</td>\n",
       "      <td>24.71</td>\n",
       "      <td>2.43</td>\n",
       "      <td>60.9</td>\n",
       "      <td>10</td>\n",
       "      <td>1</td>\n",
       "      <td>7/48</td>\n",
       "    </tr>\n",
       "    <tr>\n",
       "      <th>3</th>\n",
       "      <td>4</td>\n",
       "      <td>A Kumble</td>\n",
       "      <td>INDIA</td>\n",
       "      <td>18</td>\n",
       "      <td>132</td>\n",
       "      <td>236</td>\n",
       "      <td>40850</td>\n",
       "      <td>18355</td>\n",
       "      <td>619</td>\n",
       "      <td>29.65</td>\n",
       "      <td>2.69</td>\n",
       "      <td>65.9</td>\n",
       "      <td>35</td>\n",
       "      <td>8</td>\n",
       "      <td>10/74</td>\n",
       "    </tr>\n",
       "    <tr>\n",
       "      <th>55</th>\n",
       "      <td>56</td>\n",
       "      <td>BS Chandrasekhar</td>\n",
       "      <td>INDIA</td>\n",
       "      <td>15</td>\n",
       "      <td>58</td>\n",
       "      <td>97</td>\n",
       "      <td>15963</td>\n",
       "      <td>7199</td>\n",
       "      <td>242</td>\n",
       "      <td>29.74</td>\n",
       "      <td>2.70</td>\n",
       "      <td>65.9</td>\n",
       "      <td>16</td>\n",
       "      <td>2</td>\n",
       "      <td>8/79</td>\n",
       "    </tr>\n",
       "    <tr>\n",
       "      <th>7</th>\n",
       "      <td>8</td>\n",
       "      <td>R Ashwin</td>\n",
       "      <td>INDIA</td>\n",
       "      <td>11</td>\n",
       "      <td>86</td>\n",
       "      <td>162</td>\n",
       "      <td>23089</td>\n",
       "      <td>10666</td>\n",
       "      <td>442</td>\n",
       "      <td>24.13</td>\n",
       "      <td>2.77</td>\n",
       "      <td>52.2</td>\n",
       "      <td>30</td>\n",
       "      <td>7</td>\n",
       "      <td>7/59</td>\n",
       "    </tr>\n",
       "  </tbody>\n",
       "</table>\n",
       "</div>"
      ],
      "text/plain": [
       "    Rank            Player Country  Career Span  Matches  Innings  Balls  \\\n",
       "40    41           BS Bedi   INDIA           13       67      118  21364   \n",
       "54    55         RA Jadeja   INDIA           10       60      114  14751   \n",
       "3      4          A Kumble   INDIA           18      132      236  40850   \n",
       "55    56  BS Chandrasekhar   INDIA           15       58       97  15963   \n",
       "7      8          R Ashwin   INDIA           11       86      162  23089   \n",
       "\n",
       "     Runs  Wickets  Average  Economy  Strike Rate   5  10 Best Figures  \n",
       "40   7637      266    28.71     2.14         80.3  14   1         7/98  \n",
       "54   5980      242    24.71     2.43         60.9  10   1         7/48  \n",
       "3   18355      619    29.65     2.69         65.9  35   8        10/74  \n",
       "55   7199      242    29.74     2.70         65.9  16   2         8/79  \n",
       "7   10666      442    24.13     2.77         52.2  30   7         7/59  "
      ]
     },
     "execution_count": 10,
     "metadata": {},
     "output_type": "execute_result"
    }
   ],
   "source": [
    "indeco = rawdf[rawdf.Country.str.startswith('INDIA')].sort_values(by = ['Economy'])\n",
    "indeco.head()"
   ]
  },
  {
   "cell_type": "markdown",
   "id": "078942c2",
   "metadata": {},
   "source": [
    "## COUNTRIES HAVING ECONOMICAL BOWLERS"
   ]
  },
  {
   "cell_type": "code",
   "execution_count": 12,
   "id": "32883557",
   "metadata": {},
   "outputs": [
    {
     "data": {
      "text/plain": [
       "Country\n",
       "WI       2.533333\n",
       "SL       2.650000\n",
       "ZIM      2.690000\n",
       "AUS      2.801765\n",
       "INDIA    2.809091\n",
       "Name: Economy, dtype: float64"
      ]
     },
     "execution_count": 12,
     "metadata": {},
     "output_type": "execute_result"
    }
   ],
   "source": [
    "worldeco = rawdf.groupby('Country')['Economy'].mean().sort_values(ascending = True)\n",
    "worldeco.head()"
   ]
  },
  {
   "cell_type": "markdown",
   "id": "fc9c2ea8",
   "metadata": {},
   "source": [
    "WESTINDIES TOPS THE LIST OF TOP 5 AVERAGE OF ECONOMY BY THEIR  RESPECTIVE COUNTRY BOWLERS FOLLOWED BY SRILANKA, ZIMBABVE, AUSTRALIA AND INDIA. \n"
   ]
  },
  {
   "cell_type": "markdown",
   "id": "c728294e",
   "metadata": {},
   "source": [
    "## BEST TEST BOWLER IN INDIA ACCORDING TO THE GIVEN DATA"
   ]
  },
  {
   "cell_type": "code",
   "execution_count": 13,
   "id": "7e8c5f59",
   "metadata": {},
   "outputs": [
    {
     "data": {
      "text/html": [
       "<div>\n",
       "<style scoped>\n",
       "    .dataframe tbody tr th:only-of-type {\n",
       "        vertical-align: middle;\n",
       "    }\n",
       "\n",
       "    .dataframe tbody tr th {\n",
       "        vertical-align: top;\n",
       "    }\n",
       "\n",
       "    .dataframe thead th {\n",
       "        text-align: right;\n",
       "    }\n",
       "</style>\n",
       "<table border=\"1\" class=\"dataframe\">\n",
       "  <thead>\n",
       "    <tr style=\"text-align: right;\">\n",
       "      <th></th>\n",
       "      <th>Rank_x</th>\n",
       "      <th>Player</th>\n",
       "      <th>Country_x</th>\n",
       "      <th>Career Span_x</th>\n",
       "      <th>Matches_x</th>\n",
       "      <th>Innings_x</th>\n",
       "      <th>Balls_x</th>\n",
       "      <th>Runs_x</th>\n",
       "      <th>Wickets_x</th>\n",
       "      <th>Average_x</th>\n",
       "      <th>...</th>\n",
       "      <th>Innings_y</th>\n",
       "      <th>Balls_y</th>\n",
       "      <th>Runs_y</th>\n",
       "      <th>Wickets_y</th>\n",
       "      <th>Average_y</th>\n",
       "      <th>Economy_y</th>\n",
       "      <th>Strike Rate_y</th>\n",
       "      <th>5_y</th>\n",
       "      <th>10_y</th>\n",
       "      <th>Best Figures_y</th>\n",
       "    </tr>\n",
       "  </thead>\n",
       "  <tbody>\n",
       "    <tr>\n",
       "      <th>0</th>\n",
       "      <td>4</td>\n",
       "      <td>A Kumble</td>\n",
       "      <td>INDIA</td>\n",
       "      <td>18</td>\n",
       "      <td>132</td>\n",
       "      <td>236</td>\n",
       "      <td>40850</td>\n",
       "      <td>18355</td>\n",
       "      <td>619</td>\n",
       "      <td>29.65</td>\n",
       "      <td>...</td>\n",
       "      <td>236</td>\n",
       "      <td>40850</td>\n",
       "      <td>18355</td>\n",
       "      <td>619</td>\n",
       "      <td>29.65</td>\n",
       "      <td>2.69</td>\n",
       "      <td>65.9</td>\n",
       "      <td>35</td>\n",
       "      <td>8</td>\n",
       "      <td>10/74</td>\n",
       "    </tr>\n",
       "    <tr>\n",
       "      <th>1</th>\n",
       "      <td>8</td>\n",
       "      <td>R Ashwin</td>\n",
       "      <td>INDIA</td>\n",
       "      <td>11</td>\n",
       "      <td>86</td>\n",
       "      <td>162</td>\n",
       "      <td>23089</td>\n",
       "      <td>10666</td>\n",
       "      <td>442</td>\n",
       "      <td>24.13</td>\n",
       "      <td>...</td>\n",
       "      <td>162</td>\n",
       "      <td>23089</td>\n",
       "      <td>10666</td>\n",
       "      <td>442</td>\n",
       "      <td>24.13</td>\n",
       "      <td>2.77</td>\n",
       "      <td>52.2</td>\n",
       "      <td>30</td>\n",
       "      <td>7</td>\n",
       "      <td>7/59</td>\n",
       "    </tr>\n",
       "  </tbody>\n",
       "</table>\n",
       "<p>2 rows × 29 columns</p>\n",
       "</div>"
      ],
      "text/plain": [
       "   Rank_x    Player Country_x  Career Span_x  Matches_x  Innings_x  Balls_x  \\\n",
       "0       4  A Kumble     INDIA             18        132        236    40850   \n",
       "1       8  R Ashwin     INDIA             11         86        162    23089   \n",
       "\n",
       "   Runs_x  Wickets_x  Average_x  ...  Innings_y  Balls_y  Runs_y  Wickets_y  \\\n",
       "0   18355        619      29.65  ...        236    40850   18355        619   \n",
       "1   10666        442      24.13  ...        162    23089   10666        442   \n",
       "\n",
       "  Average_y  Economy_y Strike Rate_y  5_y  10_y  Best Figures_y  \n",
       "0     29.65       2.69          65.9   35     8           10/74  \n",
       "1     24.13       2.77          52.2   30     7            7/59  \n",
       "\n",
       "[2 rows x 29 columns]"
      ]
     },
     "execution_count": 13,
     "metadata": {},
     "output_type": "execute_result"
    }
   ],
   "source": [
    "bestind  = pd.merge(indeco.head(), indwickets.head(), how = 'inner', on = [\"Player\"])\n",
    "bestind\n",
    "        "
   ]
  },
  {
   "cell_type": "markdown",
   "id": "bc292ce6",
   "metadata": {},
   "source": [
    "As of now, A Kumble is the best Indian Test bowler. R Ashwin is next to him. As A Kumble was retired and R Ashwin is still playing, let us see whether R Ashwin overtake Kumble or not if the same performance of Ashwin continues."
   ]
  },
  {
   "cell_type": "markdown",
   "id": "7c81e37d",
   "metadata": {},
   "source": [
    "## LETS PREDICT WHETHER ASHWIN OVERTOOK KUMBLE'S RECORD OR NOT"
   ]
  },
  {
   "cell_type": "markdown",
   "id": "7dd270b3",
   "metadata": {},
   "source": [
    "### ASSUMPTIONS:\n",
    "#### 1) HE WILL NOT SUFFER ANY MAJOR INJURY.\n",
    "#### 2) HIS PERFORMANCE AND FITNESS WILL BE UNAFFECTED.\n",
    "#### 3) HE WILL  ATLEAST PLAY SAME NUMBER OF MATCHES AS KUMBLE AS HE IS YET TO RETIRE."
   ]
  },
  {
   "cell_type": "code",
   "execution_count": 14,
   "id": "308ead3d",
   "metadata": {},
   "outputs": [
    {
     "name": "stdout",
     "output_type": "stream",
     "text": [
      "If Ashwin performance is unaffected and performs same as he did in previous matches and plays same number of matches as Kumble played, he will definetely overtook Kumble's record by having 678 wickets in his records.\n",
      "\n",
      "\n",
      "Let's see in which match Ashwin overtook Kumble's record:\n",
      "      If Ashwin performes same as before, he will overtake Kumble's record at 124th match.\n"
     ]
    }
   ],
   "source": [
    "ashperf = int((bestind.loc[1,'Wickets_x'] / bestind.loc[1,'Matches_x']) * (bestind.iloc[0,4] - bestind.loc[1,'Matches_x']) + (bestind.loc[1,'Wickets_x']))\n",
    "if ashperf > bestind.loc[0,'Wickets_x']:\n",
    "    print(\"If Ashwin performance is unaffected and performs same as he did in previous matches and plays same number of matches as Kumble played, he will definetely overtook Kumble's record by having %d wickets in his records.\" %ashperf)\n",
    "else:\n",
    "    print(\"If Ashwin will have same performance in upcoming matches, Kumble's record is unbeatable by Ashwin \")\n",
    "print('\\n')\n",
    "\n",
    "##let's see in which match Ashwin overtook Kumble's record\n",
    "print(\"Let's see in which match Ashwin overtook Kumble's record:\")\n",
    "for i in range(87,133):\n",
    "    if i* int((bestind.loc[1,'Wickets_x'] / bestind.loc[1,'Matches_x'])) > bestind.loc[0,'Wickets_x']:\n",
    "        print(\"      If Ashwin performes same as before, he will overtake Kumble's record at %dth match.\" %i)\n",
    "        break\n"
   ]
  },
  {
   "cell_type": "code",
   "execution_count": 15,
   "id": "6041d043",
   "metadata": {},
   "outputs": [
    {
     "name": "stdout",
     "output_type": "stream",
     "text": [
      "Requirement already satisfied: scipy in c:\\users\\vignesh\\appdata\\local\\programs\\python\\python37\\lib\\site-packages (1.7.3)\n",
      "Requirement already satisfied: numpy<1.23.0,>=1.16.5 in c:\\users\\vignesh\\appdata\\local\\programs\\python\\python37\\lib\\site-packages (from scipy) (1.21.6)\n"
     ]
    }
   ],
   "source": [
    "!pip install scipy\n"
   ]
  },
  {
   "cell_type": "code",
   "execution_count": 16,
   "id": "7892e899",
   "metadata": {},
   "outputs": [
    {
     "name": "stdout",
     "output_type": "stream",
     "text": [
      "Requirement already satisfied: seaborn in c:\\users\\vignesh\\appdata\\local\\programs\\python\\python37\\lib\\site-packages (0.12.1)\n",
      "Requirement already satisfied: numpy>=1.17 in c:\\users\\vignesh\\appdata\\local\\programs\\python\\python37\\lib\\site-packages (from seaborn) (1.21.6)\n",
      "Requirement already satisfied: matplotlib!=3.6.1,>=3.1 in c:\\users\\vignesh\\appdata\\local\\programs\\python\\python37\\lib\\site-packages (from seaborn) (3.5.3)\n",
      "Requirement already satisfied: pandas>=0.25 in c:\\users\\vignesh\\appdata\\local\\programs\\python\\python37\\lib\\site-packages (from seaborn) (1.3.5)\n",
      "Requirement already satisfied: typing_extensions in c:\\users\\vignesh\\appdata\\local\\programs\\python\\python37\\lib\\site-packages (from seaborn) (4.4.0)\n",
      "Requirement already satisfied: fonttools>=4.22.0 in c:\\users\\vignesh\\appdata\\local\\programs\\python\\python37\\lib\\site-packages (from matplotlib!=3.6.1,>=3.1->seaborn) (4.38.0)\n",
      "Requirement already satisfied: cycler>=0.10 in c:\\users\\vignesh\\appdata\\local\\programs\\python\\python37\\lib\\site-packages (from matplotlib!=3.6.1,>=3.1->seaborn) (0.11.0)\n",
      "Requirement already satisfied: pyparsing>=2.2.1 in c:\\users\\vignesh\\appdata\\local\\programs\\python\\python37\\lib\\site-packages (from matplotlib!=3.6.1,>=3.1->seaborn) (3.0.9)\n",
      "Requirement already satisfied: packaging>=20.0 in c:\\users\\vignesh\\appdata\\local\\programs\\python\\python37\\lib\\site-packages (from matplotlib!=3.6.1,>=3.1->seaborn) (21.3)\n",
      "Requirement already satisfied: python-dateutil>=2.7 in c:\\users\\vignesh\\appdata\\local\\programs\\python\\python37\\lib\\site-packages (from matplotlib!=3.6.1,>=3.1->seaborn) (2.8.2)\n",
      "Requirement already satisfied: kiwisolver>=1.0.1 in c:\\users\\vignesh\\appdata\\local\\programs\\python\\python37\\lib\\site-packages (from matplotlib!=3.6.1,>=3.1->seaborn) (1.4.4)\n",
      "Requirement already satisfied: pillow>=6.2.0 in c:\\users\\vignesh\\appdata\\local\\programs\\python\\python37\\lib\\site-packages (from matplotlib!=3.6.1,>=3.1->seaborn) (9.3.0)\n",
      "Requirement already satisfied: pytz>=2017.3 in c:\\users\\vignesh\\appdata\\local\\programs\\python\\python37\\lib\\site-packages (from pandas>=0.25->seaborn) (2022.6)\n",
      "Requirement already satisfied: six>=1.5 in c:\\users\\vignesh\\appdata\\local\\programs\\python\\python37\\lib\\site-packages (from python-dateutil>=2.7->matplotlib!=3.6.1,>=3.1->seaborn) (1.16.0)\n"
     ]
    }
   ],
   "source": [
    "!pip install seaborn\n"
   ]
  },
  {
   "cell_type": "code",
   "execution_count": 17,
   "id": "acc4f5af",
   "metadata": {},
   "outputs": [],
   "source": [
    "import seaborn as sns\n",
    "import scipy.stats as scistat"
   ]
  },
  {
   "cell_type": "markdown",
   "id": "5f5fb09e",
   "metadata": {},
   "source": [
    "## DISTRIBUTION OF WICKETS"
   ]
  },
  {
   "cell_type": "code",
   "execution_count": 18,
   "id": "46f8de2d",
   "metadata": {},
   "outputs": [
    {
     "data": {
      "text/plain": [
       "322.2278481012658"
      ]
     },
     "execution_count": 18,
     "metadata": {},
     "output_type": "execute_result"
    }
   ],
   "source": [
    "rawdf[\"Wickets\"].mean()"
   ]
  },
  {
   "cell_type": "code",
   "execution_count": 19,
   "id": "fb8aa801",
   "metadata": {},
   "outputs": [
    {
     "data": {
      "text/plain": [
       "<AxesSubplot:title={'center':'WICKETS DISTRIBUTION'}, xlabel='wickets', ylabel='Count'>"
      ]
     },
     "execution_count": 19,
     "metadata": {},
     "output_type": "execute_result"
    },
    {
     "data": {
      "image/png": "[encoded data removed]",
      "text/plain": [
       "<Figure size 640x480 with 1 Axes>"
      ]
     },
     "metadata": {},
     "output_type": "display_data"
    }
   ],
   "source": [
    "plt.hist(rawdf[\"Wickets\"], color = 'Green')\n",
    "plt.title('WICKETS DISTRIBUTION')\n",
    "plt.xlabel('wickets')\n",
    "sns.histplot(rawdf[\"Wickets\"], kde = True)"
   ]
  },
  {
   "cell_type": "markdown",
   "id": "d5f479d0",
   "metadata": {},
   "source": [
    "THE PLOT IS SKEWED TOWARDS RIGHT AND IT APPEARS LIKE LOG NORMAL DISTRIBUTION. THE HIGHER DISTRIBUTION OF WICKETS IS LEFT SIDE TO THE MEAN VALUE OF THE WICKETS. FROM THE ABOVE PLOT THE WICKETS RANGING FROM 220 TO 280 IS LARGELY DISTRIBUED. THAT IS, AMONG THE BOWLERS, THERE ARE MORE BOWLERS HAVING THEIR WICKETS RANGING FROM 220 TO 280. \n",
    "\n",
    "IT IS ALSO CLEAR THAT BOWLERS HAVE MORE THAN 500 WICKETS IS LESS DISTRIBUTED. (ONLY THE COUNTABLE NUMBER OF PEOPLE BECOME THE BEST :-)  )"
   ]
  },
  {
   "cell_type": "markdown",
   "id": "dd55339e",
   "metadata": {},
   "source": [
    "## 500 WICKETS CLUB"
   ]
  },
  {
   "cell_type": "code",
   "execution_count": 20,
   "id": "f107b88e",
   "metadata": {
    "scrolled": true
   },
   "outputs": [
    {
     "data": {
      "text/html": [
       "<div>\n",
       "<style scoped>\n",
       "    .dataframe tbody tr th:only-of-type {\n",
       "        vertical-align: middle;\n",
       "    }\n",
       "\n",
       "    .dataframe tbody tr th {\n",
       "        vertical-align: top;\n",
       "    }\n",
       "\n",
       "    .dataframe thead th {\n",
       "        text-align: right;\n",
       "    }\n",
       "</style>\n",
       "<table border=\"1\" class=\"dataframe\">\n",
       "  <thead>\n",
       "    <tr style=\"text-align: right;\">\n",
       "      <th></th>\n",
       "      <th></th>\n",
       "      <th></th>\n",
       "    </tr>\n",
       "    <tr>\n",
       "      <th>Country</th>\n",
       "      <th>Player</th>\n",
       "      <th>Wickets</th>\n",
       "    </tr>\n",
       "  </thead>\n",
       "  <tbody>\n",
       "    <tr>\n",
       "      <th rowspan=\"2\" valign=\"top\">AUS</th>\n",
       "      <th>GD McGrath</th>\n",
       "      <th>563</th>\n",
       "    </tr>\n",
       "    <tr>\n",
       "      <th>SK Warne</th>\n",
       "      <th>708</th>\n",
       "    </tr>\n",
       "    <tr>\n",
       "      <th rowspan=\"2\" valign=\"top\">ENG</th>\n",
       "      <th>JM Anderson</th>\n",
       "      <th>667</th>\n",
       "    </tr>\n",
       "    <tr>\n",
       "      <th>SCJ Broad</th>\n",
       "      <th>566</th>\n",
       "    </tr>\n",
       "    <tr>\n",
       "      <th>INDIA</th>\n",
       "      <th>A Kumble</th>\n",
       "      <th>619</th>\n",
       "    </tr>\n",
       "    <tr>\n",
       "      <th>SL</th>\n",
       "      <th>M Muralidaran</th>\n",
       "      <th>800</th>\n",
       "    </tr>\n",
       "    <tr>\n",
       "      <th>WI</th>\n",
       "      <th>CA Walsh</th>\n",
       "      <th>519</th>\n",
       "    </tr>\n",
       "  </tbody>\n",
       "</table>\n",
       "</div>"
      ],
      "text/plain": [
       "Empty DataFrame\n",
       "Columns: []\n",
       "Index: [(AUS, GD McGrath, 563), (AUS, SK Warne, 708), (ENG, JM Anderson, 667), (ENG, SCJ Broad, 566), (INDIA, A Kumble, 619), (SL, M Muralidaran, 800), (WI, CA Walsh, 519)]"
      ]
     },
     "execution_count": 20,
     "metadata": {},
     "output_type": "execute_result"
    }
   ],
   "source": [
    "wicketsclub = rawdf.loc[:,['Country', 'Player', 'Wickets']][rawdf.Wickets>500].groupby(['Country', 'Player', 'Wickets'])\n",
    "wicketsclub.first()\n"
   ]
  },
  {
   "cell_type": "markdown",
   "id": "20c21779",
   "metadata": {},
   "source": [
    "THERE ARE 7 BOWLERS IN THE 500 WICKETS CLUB. FROM WHICH AUSTRALIA AND ENGLAND HAVE 2 BOWLERS EACH."
   ]
  },
  {
   "cell_type": "markdown",
   "id": "233c7181",
   "metadata": {},
   "source": [
    "## ANALYSING THE BEST FIGURES "
   ]
  },
  {
   "cell_type": "code",
   "execution_count": 21,
   "id": "487a77a7",
   "metadata": {},
   "outputs": [
    {
     "name": "stdout",
     "output_type": "stream",
     "text": [
      "[0.17647058823529413, 0.11267605633802817, 0.16666666666666666, 0.13513513513513514, 0.5333333333333333, 0.3333333333333333, 0.1891891891891892, 0.11864406779661017, 0.13725490196078433, 0.16, 0.10843373493975904, 0.07086614173228346, 0.17307692307692307, 0.08045977011494253, 0.09523809523809523, 0.058823529411764705, 0.17777777777777778, 0.1891891891891892, 0.23529411764705882, 0.3181818181818182, 0.09210526315789473, 0.13793103448275862, 0.08045977011494253, 0.08433734939759036, 0.09859154929577464, 0.109375, 0.11267605633802817, 0.18604651162790697, 0.2, 0.13114754098360656, 0.0945945945945946, 0.08045977011494253, 0.16666666666666666, 0.2608695652173913, 0.21052631578947367, 0.25806451612903225, 0.1568627450980392, 0.1111111111111111, 0.08247422680412371, 0.12, 0.07142857142857142, 0.09090909090909091, 0.10714285714285714, 0.1891891891891892, 0.0625, 0.09230769230769231, 0.1794871794871795, 0.125, 0.08695652173913043, 0.09722222222222222, 0.11475409836065574, 0.1794871794871795, 0.11267605633802817, 0.1951219512195122, 0.14583333333333334, 0.10126582278481013, 0.1590909090909091, 0.09302325581395349, 0.16071428571428573, 0.0821917808219178, 0.15217391304347827, 0.23076923076923078, 0.14285714285714285, 0.18421052631578946, 0.5833333333333334, 0.08620689655172414, 0.19444444444444445, 0.2857142857142857, 0.1111111111111111, 0.25925925925925924, 0.175, 0.10714285714285714, 0.0821917808219178, 0.08955223880597014, 0.09195402298850575, 0.07407407407407407, 0.04878048780487805, 0.12962962962962962, 0.175]\n",
      "64\n",
      "76\n"
     ]
    }
   ],
   "source": [
    "z= []\n",
    "for i in rawdf['Best Figures']:\n",
    "    z.append(eval(i))\n",
    "print(z)\n",
    "print(z.index(max(z)))\n",
    "print(z.index(min(z)))\n"
   ]
  },
  {
   "cell_type": "markdown",
   "id": "3f80f15f",
   "metadata": {},
   "source": [
    "## BEST FIGURE AMONG THE BEST FIGURES"
   ]
  },
  {
   "cell_type": "code",
   "execution_count": 22,
   "id": "2220a814",
   "metadata": {},
   "outputs": [
    {
     "name": "stdout",
     "output_type": "stream",
     "text": [
      "Country                 ENG\n",
      "Player          SJ Harmison\n",
      "Wickets                 226\n",
      "Best Figures           7/12\n",
      "Name: 64, dtype: object\n"
     ]
    }
   ],
   "source": [
    "print(rawdf.loc[z.index(max(z)), [\"Country\",\"Player\",\"Wickets\",\"Best Figures\"]])"
   ]
  },
  {
   "cell_type": "markdown",
   "id": "cfe57a62",
   "metadata": {},
   "source": [
    "SJ HARIMSON'S BEST FIGURE IS BEST AMONG ALL THE BEST FIGURES AS HIS WICKETS AND RUNS GIVEN IS CLOSER THAN OTHERS. THAT IS, IN THAT MATCH HE GAVE LESS RUNS AND GOT MANY WICKETS. "
   ]
  },
  {
   "cell_type": "markdown",
   "id": "39895b8e",
   "metadata": {},
   "source": [
    "## LEAST BEST FIGURE AMONG THE BESTFIGURES"
   ]
  },
  {
   "cell_type": "code",
   "execution_count": 23,
   "id": "16007470",
   "metadata": {},
   "outputs": [
    {
     "name": "stdout",
     "output_type": "stream",
     "text": [
      "Country                     PAK\n",
      "Player          Saqlain Mushtaq\n",
      "Wickets                     208\n",
      "Best Figures              8/164\n",
      "Name: 76, dtype: object\n"
     ]
    }
   ],
   "source": [
    "print(rawdf.loc[z.index(min(z)), [\"Country\",\"Player\",\"Wickets\",\"Best Figures\"]])"
   ]
  },
  {
   "cell_type": "markdown",
   "id": "ea95d958",
   "metadata": {},
   "source": [
    "SAQLAIN MUSHTAQ'S BEST FIGURE IS LEAST BEST FIGURE AS HIS WICKETS AND RUNS GIVEN ARE FAR AWAY FROM EACH OTHERS. THAT IS, IN THAT MATCH HE GAVE MORE RUNS BUT LESS WICKETS."
   ]
  },
  {
   "cell_type": "markdown",
   "id": "f9f49224",
   "metadata": {},
   "source": [
    "## LET'S TEST WHETHER THE WICKETS OF INDIA AS A SAMPLE CLOSE TO THE WICKETS OF THE WORLD AS POPULATION"
   ]
  },
  {
   "cell_type": "code",
   "execution_count": 24,
   "id": "781f29ea",
   "metadata": {},
   "outputs": [
    {
     "data": {
      "text/plain": [
       "count     11.000000\n",
       "mean     339.636364\n",
       "std      124.726319\n",
       "min      216.000000\n",
       "25%      242.000000\n",
       "50%      311.000000\n",
       "75%      425.500000\n",
       "max      619.000000\n",
       "Name: Wickets, dtype: float64"
      ]
     },
     "execution_count": 24,
     "metadata": {},
     "output_type": "execute_result"
    }
   ],
   "source": [
    "ind['Wickets'].describe()"
   ]
  },
  {
   "cell_type": "code",
   "execution_count": 25,
   "id": "43446d4f",
   "metadata": {},
   "outputs": [
    {
     "data": {
      "text/plain": [
       "count     79.000000\n",
       "mean     322.227848\n",
       "std      123.607832\n",
       "min      202.000000\n",
       "25%      235.500000\n",
       "50%      287.000000\n",
       "75%      374.500000\n",
       "max      800.000000\n",
       "Name: Wickets, dtype: float64"
      ]
     },
     "execution_count": 25,
     "metadata": {},
     "output_type": "execute_result"
    }
   ],
   "source": [
    "rawdf['Wickets'].describe()"
   ]
  },
  {
   "cell_type": "markdown",
   "id": "2d7982b6",
   "metadata": {},
   "source": [
    "lets assume that the significance value is 0.10 \n",
    "\n",
    "CI = 90%\n",
    "\n",
    "H0 = \"India's wickets as sample can be a relaible sample for world wickets.\"\n",
    "\n",
    "H1 = \"India's wickets as sample can't be a relaible sample for world wickets.\""
   ]
  },
  {
   "cell_type": "code",
   "execution_count": 26,
   "id": "813f90a9",
   "metadata": {},
   "outputs": [
    {
     "name": "stdout",
     "output_type": "stream",
     "text": [
      "tvalue = 0.4629136404113137, pvalue = 0.6533360904773127\n",
      "Pvalue is greater than significant value. So, H0 is accepted\n"
     ]
    }
   ],
   "source": [
    "from scipy.stats import ttest_1samp\n",
    "t_score,p_value = ttest_1samp(ind[\"Wickets\"], rawdf['Wickets'].mean())\n",
    "print(\"tvalue = {}, pvalue = {}\".format(t_score,p_value))\n",
    "if p_value > 0.10:\n",
    "    print(\"Pvalue is greater than significant value. So, H0 is accepted\")\n",
    "else:\n",
    "    print(\"Pvalue is lesser than significant value. So, H0 is rejected\")"
   ]
  },
  {
   "cell_type": "markdown",
   "id": "37786afb",
   "metadata": {},
   "source": [
    "Here the pvalue(0.6533360904773127) is greater than the significance value(0.10). So, the probabilty that the null hypotheis is true is higher. Hence, we can accept null hypothesis.\n",
    "\"India's wickets as sample can be a relaible sample for world wickets as population\""
   ]
  },
  {
   "cell_type": "markdown",
   "id": "87aa3b4e",
   "metadata": {},
   "source": [
    "# LETS SEE WHICH OF THE FACTORS HIGHLY AFFECTS THE WICKETS"
   ]
  },
  {
   "cell_type": "markdown",
   "id": "acde3e7a",
   "metadata": {},
   "source": [
    "The factors are:\n",
    "\n",
    "1)Career span  \n",
    "2)Matches  \n",
    "3)Balls  \n",
    "4)Economy "
   ]
  },
  {
   "cell_type": "markdown",
   "id": "94f0c417",
   "metadata": {},
   "source": [
    "## DOES THE LONGER CAREER SPAN INCREASES MATCHES AND HENCE INCREASES THE POSSIBILITY OF GETTING MORE WICKETS?"
   ]
  },
  {
   "cell_type": "code",
   "execution_count": 27,
   "id": "1fa5e78c",
   "metadata": {},
   "outputs": [
    {
     "data": {
      "text/plain": [
       "[<matplotlib.lines.Line2D at 0x1d903e48>]"
      ]
     },
     "execution_count": 27,
     "metadata": {},
     "output_type": "execute_result"
    },
    {
     "data": {
      "image/png": "[encoded data removed]",
      "text/plain": [
       "<Figure size 640x480 with 1 Axes>"
      ]
     },
     "metadata": {},
     "output_type": "display_data"
    }
   ],
   "source": [
    "z = sns.scatterplot(x = rawdf['Matches'], y = rawdf['Career Span'], color = 'y')\n",
    "plt.title(\"CAREER SPAN VS MATCHES\")\n",
    "plt.grid()\n",
    "z.plot([50,200],[5,20])\n"
   ]
  },
  {
   "cell_type": "code",
   "execution_count": 28,
   "id": "e6ac30a6",
   "metadata": {},
   "outputs": [
    {
     "data": {
      "text/plain": [
       "0.6603479106453707"
      ]
     },
     "execution_count": 28,
     "metadata": {},
     "output_type": "execute_result"
    }
   ],
   "source": [
    "rawdf[['Career Span', 'Matches']].corr().loc['Career Span', 'Matches']"
   ]
  },
  {
   "cell_type": "markdown",
   "id": "aa3264f1",
   "metadata": {},
   "source": [
    "THE POINTS ARE SCATTERED ABOVE THE PROPORTIONAL LINE. THE PLOT CLEARLY SAYS WHEN THE CAREER SPAN INCREASES, THE MATCHES PLAYED ALSO INCREASES, BUT INCREASE IN MATCHES PLAYED IS NOT PROPORTIONAL TO THE INCREASE IN CAREER SPAN. THAT IS, THE INCREASE IN MATCHES PLAYED IS LOWER THAT THAT OF INCREASE IN CAREER SPAN. \n",
    "\n",
    "A PLAYER MAY HAVE LONG PERIOD OF CARRER SPAN. BUT, HE MAY NOT PLAYED SOME MATCHES DUE TO INJURY, SICKNESS, DOESN'T GOT CHANCE, ETC., SO, WE CAN'T CONSIDER CAREER SPAN AS A MAJOR FACTOR AFFECTING WICKETS DUE TO LACK OF PROPORTIONALITY AND CORRELATION WITH MATCHES PLAYED ITSELF.\n",
    "\n",
    "NOW, LET'S CHECK BETWEEN MATCHES AND BALLS"
   ]
  },
  {
   "cell_type": "markdown",
   "id": "4b26ba33",
   "metadata": {},
   "source": [
    "## RELATIONSHIP BETWEEN MATCHES PLAYED AND BALLS BOWLED "
   ]
  },
  {
   "cell_type": "code",
   "execution_count": 29,
   "id": "567ea7e6",
   "metadata": {},
   "outputs": [
    {
     "data": {
      "image/png": "[encoded data removed]",
      "text/plain": [
       "<Figure size 1600x500 with 2 Axes>"
      ]
     },
     "metadata": {},
     "output_type": "display_data"
    }
   ],
   "source": [
    "fig,axes = plt.subplots(1,2, figsize = (16,5), gridspec_kw={'width_ratios': [2, 1], 'wspace': 0.2})\n",
    "fig.suptitle(\"MATCHES PLAYED VS BALLS BOWLED\")\n",
    "sns.barplot(ax=axes[0], x = rawdf.Matches, y = rawdf.Balls, errorbar = None, color = 'g')\n",
    "axes[0].tick_params('x', rotation = 90)\n",
    "sns.scatterplot(ax=axes[1], x = rawdf.Matches, y = rawdf.Balls, color = 'g')\n",
    "axes[1].grid()\n"
   ]
  },
  {
   "cell_type": "code",
   "execution_count": 30,
   "id": "18f8905e",
   "metadata": {},
   "outputs": [
    {
     "data": {
      "text/plain": [
       "0.8426367892365614"
      ]
     },
     "execution_count": 30,
     "metadata": {},
     "output_type": "execute_result"
    }
   ],
   "source": [
    "rawdf[['Matches', 'Balls']].corr().loc['Matches', 'Balls']"
   ]
  },
  {
   "cell_type": "markdown",
   "id": "02fa5b96",
   "metadata": {},
   "source": [
    "THE CORRELATION VALUE IS HIGHER AND ALMOST CLOSE TO +1 AND THE PLOT CLEARLY SHOWS THAT AS THE MATCHES PLAYED INCREASES, THE BALLS BOWLED ALSO INCREASES. THE PLAYERS BOWLS IN ALMOST ALL THE MATCHES THEY PLAYED. SO, THE MATCHES AND BALLS BOTH CAN BE A POTENTIAL FACTORS FOR WICKETS. "
   ]
  },
  {
   "cell_type": "markdown",
   "id": "2545bb88",
   "metadata": {},
   "source": [
    "## RELATIONSHIP BETWEEN MATCHES PLAYED AND WICKETS"
   ]
  },
  {
   "cell_type": "code",
   "execution_count": 31,
   "id": "283c3ab0",
   "metadata": {},
   "outputs": [
    {
     "data": {
      "text/plain": [
       "<AxesSubplot:xlabel='Matches', ylabel='Wickets'>"
      ]
     },
     "execution_count": 31,
     "metadata": {},
     "output_type": "execute_result"
    },
    {
     "data": {
      "image/png": "[encoded data removed]",
      "text/plain": [
       "<Figure size 640x480 with 1 Axes>"
      ]
     },
     "metadata": {},
     "output_type": "display_data"
    }
   ],
   "source": [
    "sns.scatterplot(x = rawdf['Matches'], y = rawdf['Wickets'], color = 'purple')"
   ]
  },
  {
   "cell_type": "code",
   "execution_count": 32,
   "id": "474c556c",
   "metadata": {},
   "outputs": [
    {
     "data": {
      "text/html": [
       "<div>\n",
       "<style scoped>\n",
       "    .dataframe tbody tr th:only-of-type {\n",
       "        vertical-align: middle;\n",
       "    }\n",
       "\n",
       "    .dataframe tbody tr th {\n",
       "        vertical-align: top;\n",
       "    }\n",
       "\n",
       "    .dataframe thead th {\n",
       "        text-align: right;\n",
       "    }\n",
       "</style>\n",
       "<table border=\"1\" class=\"dataframe\">\n",
       "  <thead>\n",
       "    <tr style=\"text-align: right;\">\n",
       "      <th></th>\n",
       "      <th>Matches</th>\n",
       "      <th>Wickets</th>\n",
       "    </tr>\n",
       "  </thead>\n",
       "  <tbody>\n",
       "    <tr>\n",
       "      <th>Matches</th>\n",
       "      <td>1.000000</td>\n",
       "      <td>0.830303</td>\n",
       "    </tr>\n",
       "    <tr>\n",
       "      <th>Wickets</th>\n",
       "      <td>0.830303</td>\n",
       "      <td>1.000000</td>\n",
       "    </tr>\n",
       "  </tbody>\n",
       "</table>\n",
       "</div>"
      ],
      "text/plain": [
       "          Matches   Wickets\n",
       "Matches  1.000000  0.830303\n",
       "Wickets  0.830303  1.000000"
      ]
     },
     "execution_count": 32,
     "metadata": {},
     "output_type": "execute_result"
    }
   ],
   "source": [
    "rawdf[['Matches', 'Wickets']].corr()"
   ]
  },
  {
   "cell_type": "markdown",
   "id": "ae40bccf",
   "metadata": {},
   "source": [
    "## RELATIONSHIP BETWEEN BALLS BOWLED AND WICKETS"
   ]
  },
  {
   "cell_type": "code",
   "execution_count": 33,
   "id": "5b45157d",
   "metadata": {},
   "outputs": [
    {
     "data": {
      "image/png": "[encoded data removed]",
      "text/plain": [
       "<Figure size 2000x500 with 2 Axes>"
      ]
     },
     "metadata": {},
     "output_type": "display_data"
    }
   ],
   "source": [
    "fig, axes = plt.subplots(1,2, figsize=(20,5), gridspec_kw={'width_ratios': [2,1], 'wspace': 0.2})\n",
    "fig.suptitle('BALLS VS WICKETS')\n",
    "sns.barplot(ax = axes[0], x= rawdf['Balls'], y = rawdf['Wickets'], color = 'orange')\n",
    "axes[0].tick_params('x', rotation = 90)\n",
    "sns.scatterplot(ax = axes[1], x= rawdf['Balls'], y = rawdf['Wickets'], color = 'orange')\n",
    "axes[1].grid()\n"
   ]
  },
  {
   "cell_type": "code",
   "execution_count": 34,
   "id": "ba14a75b",
   "metadata": {},
   "outputs": [
    {
     "data": {
      "text/plain": [
       "0.920376727755732"
      ]
     },
     "execution_count": 34,
     "metadata": {},
     "output_type": "execute_result"
    }
   ],
   "source": [
    "rawdf[['Balls', 'Wickets']].corr().loc['Balls', 'Wickets']"
   ]
  },
  {
   "cell_type": "markdown",
   "id": "2bee96fa",
   "metadata": {},
   "source": [
    "THE CORRELATION VALUE HERE IS ALSO HIGHER AND ALMOST CLOSE TO +1. THE PLOT ALSO SHOWS THE POSITIVE RELATIONSHIP,AS THE BALLS BOWLED INCREASES AND THE POSSIBILITY OF GETTING WICKETS IS ALSO HIGHER."
   ]
  },
  {
   "cell_type": "markdown",
   "id": "f14cdc12",
   "metadata": {},
   "source": [
    "## RELATIONSHIP BETWEEN ECONOMY AND WICKETS"
   ]
  },
  {
   "cell_type": "code",
   "execution_count": 35,
   "id": "40499705",
   "metadata": {},
   "outputs": [
    {
     "data": {
      "image/png": "[encoded data removed]",
      "text/plain": [
       "<Figure size 1500x500 with 2 Axes>"
      ]
     },
     "metadata": {},
     "output_type": "display_data"
    }
   ],
   "source": [
    "fig,axs= plt.subplots(1,2, figsize=(15,5))\n",
    "fig.suptitle('ECONOMY VS WICKETS')\n",
    "sns.histplot(ax= axs[0], x= rawdf[\"Economy\"], y = rawdf[\"Wickets\"], color  = 'brown')\n",
    "sns.scatterplot(ax= axs[1], x= rawdf[\"Economy\"], y = rawdf['Wickets'], color  = 'brown')\n",
    "axs[1].grid()"
   ]
  },
  {
   "cell_type": "code",
   "execution_count": 36,
   "id": "af971103",
   "metadata": {},
   "outputs": [
    {
     "data": {
      "text/plain": [
       "-0.12421389152613702"
      ]
     },
     "execution_count": 36,
     "metadata": {},
     "output_type": "execute_result"
    }
   ],
   "source": [
    "rawdf[['Economy', 'Wickets']].corr().loc['Economy', 'Wickets']"
   ]
  },
  {
   "cell_type": "markdown",
   "id": "fa344e23",
   "metadata": {},
   "source": [
    "IN A CRICKETER POINT OF VIEW, WHEN A BOWLER BOWLS A AN ECONOMICAL OVER, HE PRESSURES THE BATSMAN, SO THE POSSIBILITY OF GETTING THE WICKETS IS HIGH. SO, WE CAN EXPECT A NEGATIVE RELATIONSHIP BETWEEN WICKETS AND ECONOMY. BUT, FROM THE PLOT AND THE CORRELATION VALUE DERIVED FROM THE GIVEN DATA, IT IS CLEAR THAT THE NEGATIVE CORRELATION IS LESSER BETWEEN ECONOMY AND WICKETS. MOREOVER, THE SCATTERPLOT DOES NOT DEPICTS A NEGATIVE RELATIONSHIP. THE POINTS ARE SCATTERED ALMOST EVERYWHERE. SO, THE GRAPH IS NOT STRONG ENOUGH TO PROVE THAT THERE IS A GOOD RELATIONSHIP BETWEEN ECONOMY AND WICKETS."
   ]
  },
  {
   "cell_type": "markdown",
   "id": "5ecdb104",
   "metadata": {},
   "source": [
    "## LETS COMPARE THE RELATIONSHIP"
   ]
  },
  {
   "cell_type": "code",
   "execution_count": 37,
   "id": "5c2161c4",
   "metadata": {},
   "outputs": [
    {
     "data": {
      "text/plain": [
       "Text(0.5, 1.0, 'CORRELATION BETWEEN MATCHES AND WICKETS, BALLS AND WICKETS')"
      ]
     },
     "execution_count": 37,
     "metadata": {},
     "output_type": "execute_result"
    },
    {
     "data": {
      "image/png": "[encoded data removed]",
      "text/plain": [
       "<Figure size 640x480 with 2 Axes>"
      ]
     },
     "metadata": {},
     "output_type": "display_data"
    }
   ],
   "source": [
    "sns.heatmap((rawdf[['Wickets', 'Balls', 'Matches']]).corr(), cmap = 'Blues', annot = True)\n",
    "plt.title('CORRELATION BETWEEN MATCHES AND WICKETS, BALLS AND WICKETS')"
   ]
  },
  {
   "cell_type": "markdown",
   "id": "820e6beb",
   "metadata": {},
   "source": [
    " FROM THE ABOVE HEATMAP, THE FACTORS BALLS AND MATCHES ARE NOT FAR AWAY FROM EACH OTHER. THE CORRELATION BETWEEN MATCHES AND WICKETS(0.83) IS A BIT LESSER THAN THE CORRELATIOJN BETWEEN BALLS AND WICKETS(0.92). IT IS CLEAR THAT WHEN THE PLAYERS BOWLS MORE BALLS, HE WILL GET MORE WICKETS. AT THE SAME TIME WE CANNOT NEGLECT THE MATCH FACTOR, BECAUSE THE MORE MATCHES THEY PLAYS THE MORE CHANCE THEY WOULD GET TO BOWL, HENCE MORE WICKETS AS THE RELATION BETWEEN MATCHES PLAYED AND BALLS BOWLED ARE GOOD AND POSITIVE."
   ]
  },
  {
   "cell_type": "markdown",
   "id": "b82a77f3",
   "metadata": {},
   "source": [
    "# CONCLUSION:"
   ]
  },
  {
   "cell_type": "markdown",
   "id": "2a7d4a4d",
   "metadata": {},
   "source": [
    "## 1) Westindies leads in countries having top economical bowlers.\n",
    "## 2) Anil Kumble is the best bowler in India.\n",
    "## 3) R Ashwin will overtake Kumble's record by 124th his match, if he plays in the same way as he played in the previous matches.\n",
    "## 4) The higher distribution of wickets is between 220 and 280. The mean of the wickets is 322. \n",
    "## 5) There are 7 bowlers in 500 wickets club. Australia and England tops has 2 bowlers each.\n",
    "## 6) SJ Harimson of England have the best figure among the best figures.\n",
    "## 7) Saqlain Mushtaq of Pakistan have the least best figure among the best figures.\n",
    "## 8) Hypothsis testing says \"India's wickets as sample can be a relaible sample for world wickets as population\". \n",
    "## 9) Balls bowled is the prominent factor affecting wickets(correlation between balls and wickets is higher(0.92) than other factors).\n",
    "## 10) The correlation between matches and balls, matches and wickets, balls and wickets are good and positive. More the matches played, more the chances to bowl, hence more wickets."
   ]
  },
  {
   "cell_type": "markdown",
   "id": "d3a547c7",
   "metadata": {},
   "source": [
    "\n",
    "\n",
    "\n",
    "\n",
    "\n",
    "\n",
    "\n",
    "\n",
    "\n",
    "#                                               \n",
    "# THANK YOU"
   ]
  },
  {
   "cell_type": "code",
   "execution_count": null,
   "id": "d6558677",
   "metadata": {},
   "outputs": [],
   "source": []
  }
 ],
 "metadata": {
  "kernelspec": {
   "display_name": "Python 3 (ipykernel)",
   "language": "python",
   "name": "python3"
  },
  "language_info": {
   "codemirror_mode": {
    "name": "ipython",
    "version": 3
   },
   "file_extension": ".py",
   "mimetype": "text/x-python",
   "name": "python",
   "nbconvert_exporter": "python",
   "pygments_lexer": "ipython3",
   "version": "3.7.3"
  }
 },
 "nbformat": 4,
 "nbformat_minor": 5
}
